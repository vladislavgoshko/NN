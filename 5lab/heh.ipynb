{
 "cells": [
  {
   "cell_type": "code",
   "execution_count": 13,
   "metadata": {},
   "outputs": [],
   "source": [
    "import pandas as pd\n",
    "exel_data = pd.read_excel(\"lab5/data/Температура в море Рио-Де-Жанейро 1-9-2022–10-11-2022.xlsx\")\n",
    "\n",
    "df = exel_data.drop(labels=[0], axis = 0)\n",
    "\n",
    "course_df = df[['Дата', 't']]"
   ]
  }
 ],
 "metadata": {
  "kernelspec": {
   "display_name": "Python 3.10.8 64-bit (microsoft store)",
   "language": "python",
   "name": "python3"
  },
  "language_info": {
   "codemirror_mode": {
    "name": "ipython",
    "version": 3
   },
   "file_extension": ".py",
   "mimetype": "text/x-python",
   "name": "python",
   "nbconvert_exporter": "python",
   "pygments_lexer": "ipython3",
   "version": "3.10.8"
  },
  "orig_nbformat": 4,
  "vscode": {
   "interpreter": {
    "hash": "ef09e8ac0ba9decc30d096ef2bdeedd9a25128f49aa4b433967dfa9ec965150d"
   }
  }
 },
 "nbformat": 4,
 "nbformat_minor": 2
}
