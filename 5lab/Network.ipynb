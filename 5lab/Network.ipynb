{
  "cells": [
    {
      "cell_type": "code",
      "execution_count": 31,
      "metadata": {
        "id": "feZI9rAI5Je2"
      },
      "outputs": [],
      "source": [
        "import numpy as np\n",
        "from numpy import average\n",
        "import os\n",
        "import matplotlib.pyplot as plt\n",
        "from sklearn.model_selection import train_test_split\n",
        "\n",
        "from PIL import Image, ImageOps"
      ]
    },
    {
      "cell_type": "code",
      "execution_count": 32,
      "metadata": {
        "id": "zHeV63_F6QvS"
      },
      "outputs": [],
      "source": [
        "path = 'a.npy'\n",
        "pathForBias = 'aBias.npy'\n",
        "def SaveWeigthsInFile(path, network):\n",
        "  np.save(path, network.BestWeights)\n",
        "\n",
        "def SaveBiasWeightsInFile(path, network):\n",
        "  np.save(path, network.BestBiasWeights)\n",
        "\n",
        "def ReadWeigthFromFile(path):\n",
        "  return np.load(path,allow_pickle=True)"
      ]
    },
    {
      "cell_type": "code",
      "execution_count": 33,
      "metadata": {},
      "outputs": [],
      "source": [
        "def approximationFunc(x):\n",
        "    return np.power(x, 3) * np.exp(np.sin(x) * np.cos(x))"
      ]
    },
    {
      "cell_type": "code",
      "execution_count": 34,
      "metadata": {},
      "outputs": [],
      "source": [
        "def sigmoid(x):\n",
        "    #Сигмоидная функция активации: f(x) = 1 / (1 + e^(-x))\n",
        "    return x / (1 + np.abs(x))\n",
        "    #return 1 if x > 0 else 0\n",
        "\n",
        "def dersigmoid(s):\n",
        "  return 1 / (1 + np.abs(s))**2\n",
        "\n",
        "def Hebb(weight, ny, x0, y, e):\n",
        "    return weight - ny * x0 * (y - e)"
      ]
    },
    {
      "cell_type": "code",
      "execution_count": 35,
      "metadata": {
        "id": "Om8l33pSDXEk"
      },
      "outputs": [],
      "source": [
        "'''Описание класса нейрона'''\n",
        "class Neuron:\n",
        "    def __init__(self, weights, bias =1, biasWigth = 1, knowingRatio = 0.9):\n",
        "        self.Weights = weights\n",
        "        self.DeltaWeights = np.zeros(len(weights))\n",
        "        self.Bias = bias\n",
        "        self.KnowingRatio = knowingRatio\n",
        "        self.Beta = 0\n",
        "        self.dW = 0\n",
        "        self.dB = 0\n",
        "        self.BiasWigth = biasWigth\n",
        "    \n",
        "    def feedforward(self, inputs):\n",
        "        self.LastInput = inputs\n",
        "        total = np.dot(self.Weights, inputs) + self.Bias * self.BiasWigth\n",
        "        self.LastRezult = total\n",
        "        return sigmoid(total)\n",
        "    \n",
        "    \n",
        "    def WeightCorrection(self, lam):\n",
        "      self.dW = self.KnowingRatio*self.dW + (1 - self.KnowingRatio) * np.square(self.Beta) \n",
        "      self.dB = self.KnowingRatio*self.dB + (1 - self.KnowingRatio) * np.square(self.Beta)\n",
        "      \n",
        "      self.Weights = self.Weights - np.dot(lam * self.Beta/(np.sqrt(self.dW) + 0.0001), self.LastInput)\n",
        "      self.BiasWigth = self.BiasWigth - lam * self.Beta/(np.sqrt(self.dB) + 0.0001)\n",
        "                \n",
        "\n",
        "    "
      ]
    },
    {
      "cell_type": "code",
      "execution_count": 36,
      "metadata": {
        "id": "BkQCtIOzKwOb",
        "tags": [
          "Perceptron",
          "parameters"
        ]
      },
      "outputs": [],
      "source": [
        "#Neuron network class\n",
        "\n",
        "class HebbNetworkGradient:\n",
        "    def __init__(self, neuronsCountArray,biasWeights = [], Weights = [],\n",
        "                eps = 0.1, lam = 0.1, epochs = 20000, neuroneKnowingRatio = 0.9,\n",
        "                 drawInfo = True, drawInfoEpochs = 1000):\n",
        "        '''\n",
        "        neuronsCountArray example [25, 14, 7, 3, 1] where each number mean\n",
        "         a count of neurons in the layer\n",
        "        ''' \n",
        "        self.IsDrawInfo = drawInfo\n",
        "        self.DrawInfoEpochs = drawInfoEpochs\n",
        "\n",
        "        self.Eps = eps\n",
        "        self.T = 0\n",
        "        self.Epochs = epochs\n",
        "        self.Lam = lam\n",
        "        self.BestWeights = []\n",
        "        self.BestBiasWeights = []\n",
        "        self.BestL = 10000000000\n",
        "        self.L = []\n",
        "        self.Neurons = {}\n",
        "        for i in range(1, len(neuronsCountArray)):\n",
        "          self.Neurons[i] = []\n",
        "          if(len(Weights) == 0):\n",
        "            for j in range(neuronsCountArray[i]):\n",
        "              self.Neurons[i].append(Neuron(np.random.randint(-10,10,neuronsCountArray[i-1]), 1, knowingRatio=neuroneKnowingRatio)) \n",
        "          else:\n",
        "            print(i)\n",
        "            for j in range(len(Weights[i-1])):\n",
        "              self.Neurons[i].append(Neuron(Weights[i-1][j], 1, biasWeights[i-1][j], knowingRatio=neuroneKnowingRatio))\n",
        "    \n",
        "    def fit(self, X, y):\n",
        "        self.T = 1\n",
        "        self.CalculateLoss(X,y)\n",
        "        while self.L[len(self.L)-1] > self.Eps and self.T < self.Epochs:\n",
        "            n_rule = np.random.randint(len(X))\n",
        "            #for n_rule in range(len(X)):\n",
        "            e = self.feedforward(X[n_rule])\n",
        "            if any(np.abs(self.lossFunction(y[n_rule],e))) > self.Eps:\n",
        "              #if np.argmax(y[n_rule]) != e.index(max(e)):\n",
        "                  self.WeightCorrection(y[n_rule])\n",
        "                  self.CalculateLoss(X,y)\n",
        "                  self.T+=1\n",
        "        print(\"network was learned for\",self.T,\"generations\")\n",
        "    \n",
        "    def predict(self, data):\n",
        "        y = []\n",
        "        for i in data:\n",
        "          y.append(self.feedforward(i))\n",
        "        return y\n",
        "        \n",
        "    def feedforward(self, inputs):\n",
        "        y = [neuron.feedforward(inputs) for neuron in self.Neurons[1]]\n",
        "        for i in self.Neurons:\n",
        "          if i == 1:\n",
        "            continue\n",
        "          else:\n",
        "            y = [neuron.feedforward(y) for neuron in self.Neurons[i]]\n",
        "        \n",
        "        return y\n",
        "\n",
        "    def lossFunction(self, e, y):\n",
        "      return np.abs((e - y)/e)\n",
        "\n",
        "    def CalculateLoss(self, x,y):\n",
        "      loss = 0\n",
        "      for j in range(len(x)):\n",
        "        e = self.feedforward(x[j])\n",
        "        loss += np.average(self.lossFunction(e, y[j]))\n",
        "      \n",
        "      self.L.append(loss/len(y))\n",
        "      \n",
        "      if(self.L[len(self.L)-1] < self.BestL):\n",
        "        self.BestL = self.L[len(self.L)-1]\n",
        "        print(\"New best L:\",self.BestL)\n",
        "        weigths = []\n",
        "        for i in self.Neurons:\n",
        "          weigths.append([])\n",
        "          for j in self.Neurons[i]:\n",
        "            weigths[i-1].append(j.Weights)\n",
        "        self.BestWeights = weigths\n",
        "\n",
        "        weigths = []\n",
        "        for i in self.Neurons:\n",
        "          weigths.append([])\n",
        "          for j in self.Neurons[i]:\n",
        "            weigths[i-1].append(j.BiasWigth)\n",
        "        self.BestBiasWeights = weigths\n",
        "      \n",
        "      \n",
        "      if self.IsDrawInfo and self.T % self.DrawInfoEpochs == 0 and self.T != 0:\n",
        "        ratio = self.DrawInfoEpochs\n",
        "        print(\"T\",self.T,\"Loss\",self.L[len(self.L)-1], \"BestLoss\", self.BestL)\n",
        "        plt.plot(range(self.T-ratio,self.T), self.L[(self.T-ratio):self.T])\n",
        "        plt.show()\n",
        "      \n",
        "      return self.L[len(self.L)-1]\n",
        "\n",
        "    def WeightCorrection(self,e):\n",
        "      for i in range(len(self.Neurons[len(self.Neurons)])):\n",
        "        neurone = self.Neurons[len(self.Neurons)][i]\n",
        "        y = sigmoid(neurone.LastRezult)\n",
        "        beta = (y - e[i]) * dersigmoid(neurone.LastRezult)\n",
        "        neurone.Beta = beta\n",
        "        neurone.WeightCorrection(self.Lam)\n",
        "        beta1 = beta * neurone.Weights *  dersigmoid(neurone.LastRezult)\n",
        "        self.AddBetaInPreviousLayer( beta1, len(self.Neurons)-1)\n",
        "\n",
        "      self.BackLayerPropagation(len(self.Neurons)-1)\n",
        "\n",
        "      self.Optimization()\n",
        "\n",
        "    \n",
        "    def BackLayerPropagation(self, layerIndex):\n",
        "      if layerIndex == 0:\n",
        "        return\n",
        "      #Для всех слоёв не считая начального\n",
        "      for neurone in self.Neurons[layerIndex]:\n",
        "        neurone.WeightCorrection(self.Lam)\n",
        "        beta1 = neurone.Beta * neurone.Weights *  dersigmoid(neurone.LastRezult)\n",
        "        self.AddBetaInPreviousLayer( beta1, layerIndex-1)\n",
        "        \n",
        "      \n",
        "      self.BackLayerPropagation(layerIndex-1) \n",
        "\n",
        "    def Optimization(self):\n",
        "      for layerIndex in range(1, len(self.Neurons)+1):\n",
        "        for neurone in self.Neurons[layerIndex]: \n",
        "          neurone.Beta = 0\n",
        "\n",
        "\n",
        "    def AddBetaInPreviousLayer(self, beta, layerIndex):\n",
        "      if layerIndex == 0:\n",
        "        return\n",
        "      for i in range(len(self.Neurons[layerIndex])):\n",
        "        self.Neurons[layerIndex][i].Beta += beta[i]\n",
        "    "
      ]
    },
    {
      "cell_type": "code",
      "execution_count": 37,
      "metadata": {
        "colab": {
          "base_uri": "https://localhost:8080/",
          "height": 635
        },
        "id": "UNcqzKd59YW6",
        "outputId": "2758c31a-662e-458e-d28f-fb50ec3ee6b8"
      },
      "outputs": [
        {
          "name": "stdout",
          "output_type": "stream",
          "text": [
            "Trains\n"
          ]
        },
        {
          "data": {
            "image/png": "[encoded data removed]",
            "text/plain": [
              "<Figure size 640x480 with 1 Axes>"
            ]
          },
          "metadata": {},
          "output_type": "display_data"
        }
      ],
      "source": [
        "x_min = 10\n",
        "x_max = 100\n",
        "x = np.arange(x_min, x_max, 0.1)\n",
        "x = x.reshape(-1,1)\n",
        "x = x\n",
        "y = approximationFunc(x)\n",
        "y = y.reshape(-1,1)\n",
        "y = y/np.max(y)\n",
        "\n",
        "print(\"Trains\")\n",
        "plt.plot(x,y)\n",
        "plt.show()"
      ]
    },
    {
      "cell_type": "code",
      "execution_count": 38,
      "metadata": {
        "colab": {
          "base_uri": "https://localhost:8080/",
          "height": 1000
        },
        "id": "Z4aLeJ4-Y0m-",
        "outputId": "151700ce-3af7-412a-abb3-a4e0c0595d76"
      },
      "outputs": [
        {
          "data": {
            "text/plain": [
              "'\\n#perceptron = HebbNetworkGradient([1,7,1],biasWeights, weights, eps = 0.001, ruleEps = 0.001, lam=0.01)\\n#perceptron.fit(x,y)\\nprint(\"trainLoss: \",perceptron.CalculateLoss(x, y))\\n\\ntest_x = np.arange(x_min, x_max, 0.1)\\ntest_x = test_x.reshape((-1,1))\\n\\ntest_y = approximationFunc(test_x)\\ntest_y  = test_y.reshape((-1,1))\\ntest_y = test_y/np.max(test_y)\\nprint(\"testLoss: \",perceptron.CalculateLoss(test_x, test_y))\\nplt.plot(test_x ,test_y )\\n\\npred_y = perceptron.predict(test_x)\\nplt.plot(test_x, pred_y)\\nplt.show()\\nSaveWeigthsInFile(path, perceptron)\\nSaveBiasWeightsInFile(pathForBias, perceptron)\\n'"
            ]
          },
          "execution_count": 38,
          "metadata": {},
          "output_type": "execute_result"
        }
      ],
      "source": [
        "weights = []\n",
        "biasWeights = []\n",
        "#weights = ReadWeigthFromFile(path);\n",
        "#biasWeights = ReadWeigthFromFile(pathForBias);\n",
        "'''\n",
        "#perceptron = HebbNetworkGradient([1,7,1],biasWeights, weights, eps = 0.001, ruleEps = 0.001, lam=0.01)\n",
        "#perceptron.fit(x,y)\n",
        "print(\"trainLoss: \",perceptron.CalculateLoss(x, y))\n",
        "\n",
        "test_x = np.arange(x_min, x_max, 0.1)\n",
        "test_x = test_x.reshape((-1,1))\n",
        "\n",
        "test_y = approximationFunc(test_x)\n",
        "test_y  = test_y.reshape((-1,1))\n",
        "test_y = test_y/np.max(test_y)\n",
        "print(\"testLoss: \",perceptron.CalculateLoss(test_x, test_y))\n",
        "plt.plot(test_x ,test_y )\n",
        "\n",
        "pred_y = perceptron.predict(test_x)\n",
        "plt.plot(test_x, pred_y)\n",
        "plt.show()\n",
        "SaveWeigthsInFile(path, perceptron)\n",
        "SaveBiasWeightsInFile(pathForBias, perceptron)\n",
        "'''\n"
      ]
    },
    {
      "cell_type": "code",
      "execution_count": 39,
      "metadata": {},
      "outputs": [],
      "source": [
        "\n",
        "class RBF:\n",
        "    def __init__(self, R = 1) -> None:\n",
        "        self.R = 5\n",
        "        self.A = 1/(2 * self.R * self.R)\n",
        "    \n",
        "    def fun_act(self, x, r, c):\n",
        "        return np.exp(-np.square(x - c)/np.square(r))\n",
        "\n",
        "    def fun_h(self, x,r,c):\n",
        "        return np.exp(-r*np.abs(x - c))\n",
        "\n",
        "    def fun_H(self, t_x, t_c, r):\n",
        "        H = np.zeros((len(t_x), len(t_c)))\n",
        "        for i in range(len(t_x)):\n",
        "            for j in range(len(t_c)):\n",
        "                H[i][j] = self.fun_h(t_x[i], r, t_c[j])\n",
        "        return H\n",
        "\n",
        "    def fun_RBN(self, x, t_c, a, w):\n",
        "        h = np.zeros((len(t_c)))\n",
        "        for i in range(len(t_c)):\n",
        "            h[i] = self.fun_h(x, a, t_c[i])\n",
        "        return np.dot(h,w)\n",
        "\n",
        "    def fit(self, x, y, c):\n",
        "        H = self.fun_H(x, c, self.A)\n",
        "        H_ = np.dot(np.linalg.inv(np.dot(H.transpose(), H)), H.transpose())\n",
        "        W = np.dot(H_, y)\n",
        "        self.W = W\n",
        "\n",
        "    def predict(self, data, c):\n",
        "        pred_y = np.zeros((len(data)))\n",
        "        for i in range(len(data)):\n",
        "            pred_y[i] = self.fun_RBN(data[i], c, self.A, self.W)\n",
        "        return pred_y\n",
        "        "
      ]
    },
    {
      "cell_type": "code",
      "execution_count": 40,
      "metadata": {},
      "outputs": [],
      "source": [
        "test_x = np.arange(x_min, x_max, 0.1)\n",
        "test_x = test_x.reshape((-1,1))\n",
        "\n",
        "test_y = approximationFunc(test_x)\n",
        "test_y  = test_y.reshape((-1,1))\n",
        "test_y = test_y/np.max(test_y)"
      ]
    },
    {
      "cell_type": "code",
      "execution_count": 41,
      "metadata": {},
      "outputs": [
        {
          "name": "stdout",
          "output_type": "stream",
          "text": [
            "New best L: 0.7988417528585766\n",
            "New best L: 0.7988314579418193\n",
            "New best L: 0.7988231894333335\n",
            "New best L: 0.7988152247022162\n",
            "New best L: 0.7988076520819988\n",
            "New best L: 0.7988009293560572\n",
            "New best L: 0.7987937312246612\n",
            "New best L: 0.7987867579852015\n",
            "New best L: 0.7987785373671785\n",
            "New best L: 0.7987713353480408\n",
            "New best L: 0.7987656663729589\n",
            "New best L: 0.798757171850938\n",
            "New best L: 0.7987531364867781\n",
            "New best L: 0.7987443232784479\n",
            "New best L: 0.7987377557422647\n",
            "New best L: 0.7987313908748086\n",
            "New best L: 0.7987227560344262\n",
            "New best L: 0.7987145032241396\n",
            "New best L: 0.7987066899909526\n",
            "New best L: 0.7986990727840861\n",
            "New best L: 0.7986916799177115\n",
            "New best L: 0.7986839018859873\n",
            "New best L: 0.7986783245184774\n",
            "New best L: 0.7986710017116987\n",
            "New best L: 0.798662538494004\n",
            "New best L: 0.7986547759738071\n",
            "New best L: 0.7986470180633107\n",
            "New best L: 0.7986460384284827\n",
            "New best L: 0.7986374076954411\n",
            "New best L: 0.7986295111509758\n",
            "New best L: 0.7986219237037543\n",
            "New best L: 0.7986141934885649\n",
            "New best L: 0.7986090696405622\n",
            "New best L: 0.7986030655660876\n",
            "New best L: 0.7985943116034623\n",
            "New best L: 0.7985858589563283\n",
            "New best L: 0.798582020852961\n",
            "New best L: 0.7985756778795399\n",
            "New best L: 0.7985664455738072\n",
            "New best L: 0.7985597107214734\n",
            "New best L: 0.7985510656033039\n",
            "New best L: 0.7985430718521559\n",
            "New best L: 0.7985353853364967\n",
            "New best L: 0.7985290144127869\n",
            "New best L: 0.798520635431279\n",
            "New best L: 0.7985126657133761\n",
            "New best L: 0.7985071458782573\n",
            "New best L: 0.7984986280722206\n",
            "New best L: 0.7984900754841181\n",
            "New best L: 0.7984821790884491\n",
            "New best L: 0.7984736041945395\n",
            "New best L: 0.7984669130355796\n",
            "New best L: 0.7984587736920785\n",
            "New best L: 0.7984537309706619\n",
            "New best L: 0.7984449078891555\n",
            "New best L: 0.7984376363098037\n",
            "New best L: 0.7984282658420495\n",
            "New best L: 0.7984197003391587\n",
            "New best L: 0.7984121332329723\n",
            "New best L: 0.7984039449004601\n",
            "New best L: 0.79839622482087\n",
            "New best L: 0.7983876518201739\n",
            "New best L: 0.7983792620110508\n",
            "New best L: 0.7983714201437301\n",
            "New best L: 0.7983636351093926\n",
            "New best L: 0.7983550668968842\n",
            "New best L: 0.7983478678507303\n",
            "New best L: 0.7983392072101779\n",
            "New best L: 0.7983309217520715\n",
            "New best L: 0.7983227438241152\n",
            "New best L: 0.7983142137813887\n",
            "New best L: 0.7983059937552622\n",
            "New best L: 0.7982988963520554\n",
            "New best L: 0.7982908795694018\n",
            "New best L: 0.7982821777230615\n",
            "New best L: 0.7982775724555935\n",
            "New best L: 0.7982677039580762\n",
            "New best L: 0.7982585299893664\n",
            "New best L: 0.7982500844764451\n",
            "New best L: 0.7982446627790896\n",
            "New best L: 0.7982352657412285\n",
            "New best L: 0.7982266781282154\n",
            "New best L: 0.7982182414007449\n",
            "New best L: 0.7982138072033231\n",
            "New best L: 0.7982078060171821\n",
            "New best L: 0.7981977871376329\n",
            "New best L: 0.798188736534832\n",
            "New best L: 0.7981800448318719\n",
            "New best L: 0.7981713215192934\n",
            "New best L: 0.7981645662614278\n",
            "New best L: 0.798155828650279\n",
            "New best L: 0.7981463731260707\n",
            "New best L: 0.7981371367140655\n",
            "New best L: 0.7981295792825497\n",
            "New best L: 0.7981204161479616\n",
            "New best L: 0.7981124823896971\n",
            "New best L: 0.7981045506048564\n",
            "New best L: 0.798094740905014\n",
            "New best L: 0.7980857953081345\n",
            "New best L: 0.7980771430379552\n",
            "New best L: 0.7980695251857672\n",
            "New best L: 0.7980598452291054\n",
            "New best L: 0.798050559565665\n",
            "New best L: 0.7980414710802787\n",
            "New best L: 0.7980319590309847\n",
            "New best L: 0.7980226624282409\n",
            "New best L: 0.7980137988752559\n",
            "New best L: 0.7980047038350461\n",
            "New best L: 0.7980025888318849\n",
            "New best L: 0.7979922394830327\n",
            "New best L: 0.7979825181255088\n",
            "New best L: 0.7979781367395926\n",
            "New best L: 0.7979753887080044\n",
            "New best L: 0.7979630040120105\n",
            "New best L: 0.7979524853744026\n",
            "New best L: 0.7979423191404857\n",
            "New best L: 0.7979325165862236\n",
            "New best L: 0.797924211460015\n",
            "New best L: 0.7979137068977685\n",
            "New best L: 0.7979029472223919\n",
            "New best L: 0.797895863342631\n",
            "New best L: 0.7978852286235779\n",
            "New best L: 0.7978755814719996\n",
            "New best L: 0.7978659768770028\n",
            "New best L: 0.7978568214991963\n",
            "New best L: 0.7978465274762934\n",
            "New best L: 0.7978354316190015\n",
            "New best L: 0.7978248052949427\n",
            "New best L: 0.7978188754935412\n",
            "New best L: 0.7978058948659742\n",
            "New best L: 0.7977998211571208\n",
            "New best L: 0.7977861712608815\n",
            "New best L: 0.797773920768175\n",
            "New best L: 0.7977653420811147\n",
            "New best L: 0.7977509661893062\n",
            "New best L: 0.7977378524172365\n",
            "New best L: 0.7977263510881267\n",
            "New best L: 0.7977159767448294\n",
            "New best L: 0.797706211134035\n",
            "New best L: 0.7976930127779214\n",
            "New best L: 0.7976795888511767\n",
            "New best L: 0.7976643007357002\n",
            "New best L: 0.797659086405862\n",
            "New best L: 0.797639335539012\n",
            "New best L: 0.79762177597526\n",
            "New best L: 0.7976046858926533\n",
            "New best L: 0.7975868554894886\n",
            "New best L: 0.7975710507479649\n",
            "New best L: 0.79755004936172\n",
            "New best L: 0.7975293758565806\n",
            "New best L: 0.7975062950489415\n",
            "New best L: 0.7974811394105535\n",
            "New best L: 0.7974542160261424\n",
            "New best L: 0.7974287064320883\n",
            "New best L: 0.7973820625478217\n",
            "New best L: 0.7973466598594945\n",
            "New best L: 0.7972653893713415\n",
            "New best L: 0.7971769912015185\n",
            "New best L: 0.797068243233415\n",
            "New best L: 0.7969354086265485\n",
            "New best L: 0.796743395869043\n",
            "New best L: 0.7965471560820984\n",
            "New best L: 0.796096958500258\n",
            "New best L: 0.7946797081102304\n",
            "New best L: 0.7930033153371134\n",
            "New best L: 0.7925771928273908\n",
            "New best L: 0.7924565954981021\n",
            "New best L: 0.7923075070628592\n",
            "New best L: 0.7785283301481438\n",
            "New best L: 0.7660846284865602\n",
            "New best L: 0.7659176074467354\n",
            "New best L: 0.7655521104059315\n",
            "New best L: 0.7654667954841061\n",
            "New best L: 0.7629046490821058\n"
          ]
        }
      ],
      "source": [
        "perceptron1layer = HebbNetworkGradient([1,7,1], neuroneKnowingRatio=0.5, eps = 0.1, lam=0.001, drawInfo=False)\n",
        "perceptron1layer.fit(x,y)\n"
      ]
    },
    {
      "cell_type": "code",
      "execution_count": null,
      "metadata": {},
      "outputs": [
        {
          "name": "stdout",
          "output_type": "stream",
          "text": [
            "New best L: 1.2509577214578196\n",
            "New best L: 0.7946525291933746\n",
            "New best L: 0.7946254077511935\n",
            "New best L: 0.6886890406876294\n",
            "New best L: 0.6833660933350933\n",
            "New best L: 0.6816818572571413\n",
            "New best L: 0.6585154417134463\n",
            "New best L: 0.6469952033642248\n"
          ]
        },
        {
          "ename": "KeyboardInterrupt",
          "evalue": "",
          "output_type": "error",
          "traceback": [
            "\u001b[1;31m---------------------------------------------------------------------------\u001b[0m",
            "\u001b[1;31mKeyboardInterrupt\u001b[0m                         Traceback (most recent call last)",
            "Cell \u001b[1;32mIn [30], line 2\u001b[0m\n\u001b[0;32m      1\u001b[0m perceptron2layer \u001b[39m=\u001b[39m HebbNetworkGradient([\u001b[39m1\u001b[39m,\u001b[39m7\u001b[39m,\u001b[39m7\u001b[39m,\u001b[39m1\u001b[39m], neuroneKnowingRatio\u001b[39m=\u001b[39m\u001b[39m0.3\u001b[39m, eps \u001b[39m=\u001b[39m \u001b[39m0.1\u001b[39m, lam\u001b[39m=\u001b[39m\u001b[39m0.001\u001b[39m, drawInfo\u001b[39m=\u001b[39m\u001b[39mFalse\u001b[39;00m)\n\u001b[1;32m----> 2\u001b[0m perceptron2layer\u001b[39m.\u001b[39;49mfit(x,y)\n",
            "Cell \u001b[1;32mIn [24], line 43\u001b[0m, in \u001b[0;36mHebbNetworkGradient.fit\u001b[1;34m(self, X, y)\u001b[0m\n\u001b[0;32m     40\u001b[0m     \u001b[39mif\u001b[39;00m \u001b[39many\u001b[39m(np\u001b[39m.\u001b[39mabs(\u001b[39mself\u001b[39m\u001b[39m.\u001b[39mlossFunction(y[n_rule],e))) \u001b[39m>\u001b[39m \u001b[39mself\u001b[39m\u001b[39m.\u001b[39mEps:\n\u001b[0;32m     41\u001b[0m       \u001b[39m#if np.argmax(y[n_rule]) != e.index(max(e)):\u001b[39;00m\n\u001b[0;32m     42\u001b[0m           \u001b[39mself\u001b[39m\u001b[39m.\u001b[39mWeightCorrection(y[n_rule])\n\u001b[1;32m---> 43\u001b[0m           \u001b[39mself\u001b[39;49m\u001b[39m.\u001b[39;49mCalculateLoss(X,y)\n\u001b[0;32m     44\u001b[0m           \u001b[39mself\u001b[39m\u001b[39m.\u001b[39mT\u001b[39m+\u001b[39m\u001b[39m=\u001b[39m\u001b[39m1\u001b[39m\n\u001b[0;32m     45\u001b[0m \u001b[39mprint\u001b[39m(\u001b[39m\"\u001b[39m\u001b[39mnetwork was learned for\u001b[39m\u001b[39m\"\u001b[39m,\u001b[39mself\u001b[39m\u001b[39m.\u001b[39mT,\u001b[39m\"\u001b[39m\u001b[39mgenerations\u001b[39m\u001b[39m\"\u001b[39m)\n",
            "Cell \u001b[1;32mIn [24], line 69\u001b[0m, in \u001b[0;36mHebbNetworkGradient.CalculateLoss\u001b[1;34m(self, x, y)\u001b[0m\n\u001b[0;32m     67\u001b[0m loss \u001b[39m=\u001b[39m \u001b[39m0\u001b[39m\n\u001b[0;32m     68\u001b[0m \u001b[39mfor\u001b[39;00m j \u001b[39min\u001b[39;00m \u001b[39mrange\u001b[39m(\u001b[39mlen\u001b[39m(x)):\n\u001b[1;32m---> 69\u001b[0m   e \u001b[39m=\u001b[39m \u001b[39mself\u001b[39;49m\u001b[39m.\u001b[39;49mfeedforward(x[j])\n\u001b[0;32m     70\u001b[0m   loss \u001b[39m+\u001b[39m\u001b[39m=\u001b[39m np\u001b[39m.\u001b[39maverage(\u001b[39mself\u001b[39m\u001b[39m.\u001b[39mlossFunction(e, y[j]))\n\u001b[0;32m     72\u001b[0m \u001b[39mself\u001b[39m\u001b[39m.\u001b[39mL\u001b[39m.\u001b[39mappend(loss\u001b[39m/\u001b[39m\u001b[39mlen\u001b[39m(y))\n",
            "Cell \u001b[1;32mIn [24], line 59\u001b[0m, in \u001b[0;36mHebbNetworkGradient.feedforward\u001b[1;34m(self, inputs)\u001b[0m\n\u001b[0;32m     57\u001b[0m     \u001b[39mcontinue\u001b[39;00m\n\u001b[0;32m     58\u001b[0m   \u001b[39melse\u001b[39;00m:\n\u001b[1;32m---> 59\u001b[0m     y \u001b[39m=\u001b[39m [neuron\u001b[39m.\u001b[39mfeedforward(y) \u001b[39mfor\u001b[39;00m neuron \u001b[39min\u001b[39;00m \u001b[39mself\u001b[39m\u001b[39m.\u001b[39mNeurons[i]]\n\u001b[0;32m     61\u001b[0m \u001b[39mreturn\u001b[39;00m y\n",
            "Cell \u001b[1;32mIn [24], line 59\u001b[0m, in \u001b[0;36m<listcomp>\u001b[1;34m(.0)\u001b[0m\n\u001b[0;32m     57\u001b[0m     \u001b[39mcontinue\u001b[39;00m\n\u001b[0;32m     58\u001b[0m   \u001b[39melse\u001b[39;00m:\n\u001b[1;32m---> 59\u001b[0m     y \u001b[39m=\u001b[39m [neuron\u001b[39m.\u001b[39;49mfeedforward(y) \u001b[39mfor\u001b[39;00m neuron \u001b[39min\u001b[39;00m \u001b[39mself\u001b[39m\u001b[39m.\u001b[39mNeurons[i]]\n\u001b[0;32m     61\u001b[0m \u001b[39mreturn\u001b[39;00m y\n",
            "Cell \u001b[1;32mIn [23], line 15\u001b[0m, in \u001b[0;36mNeuron.feedforward\u001b[1;34m(self, inputs)\u001b[0m\n\u001b[0;32m     13\u001b[0m \u001b[39mdef\u001b[39;00m \u001b[39mfeedforward\u001b[39m(\u001b[39mself\u001b[39m, inputs):\n\u001b[0;32m     14\u001b[0m     \u001b[39mself\u001b[39m\u001b[39m.\u001b[39mLastInput \u001b[39m=\u001b[39m inputs\n\u001b[1;32m---> 15\u001b[0m     total \u001b[39m=\u001b[39m np\u001b[39m.\u001b[39;49mdot(\u001b[39mself\u001b[39;49m\u001b[39m.\u001b[39;49mWeights, inputs) \u001b[39m+\u001b[39m \u001b[39mself\u001b[39m\u001b[39m.\u001b[39mBias \u001b[39m*\u001b[39m \u001b[39mself\u001b[39m\u001b[39m.\u001b[39mBiasWigth\n\u001b[0;32m     16\u001b[0m     \u001b[39mself\u001b[39m\u001b[39m.\u001b[39mLastRezult \u001b[39m=\u001b[39m total\n\u001b[0;32m     17\u001b[0m     \u001b[39mreturn\u001b[39;00m sigmoid(total)\n",
            "File \u001b[1;32m<__array_function__ internals>:180\u001b[0m, in \u001b[0;36mdot\u001b[1;34m(*args, **kwargs)\u001b[0m\n",
            "\u001b[1;31mKeyboardInterrupt\u001b[0m: "
          ]
        }
      ],
      "source": [
        "perceptron2layer = HebbNetworkGradient([1,7,7,1], neuroneKnowingRatio=0.3, eps = 0.1, lam=0.001, drawInfo=False)\n",
        "perceptron2layer.fit(x,y)"
      ]
    },
    {
      "cell_type": "code",
      "execution_count": null,
      "metadata": {},
      "outputs": [],
      "source": [
        "n = 5\n",
        "c = np.arange(x_min, x_max, (x_max-x_min)/n)\n",
        "c = c.reshape(-1,1)\n",
        "rbf = RBF()\n",
        "rbf.fit(x, y, c)"
      ]
    },
    {
      "cell_type": "code",
      "execution_count": null,
      "metadata": {},
      "outputs": [
        {
          "name": "stdout",
          "output_type": "stream",
          "text": [
            "1\n",
            "2\n"
          ]
        }
      ],
      "source": [
        "perceptron1layer = HebbNetworkGradient([1,7,1], perceptron1layer.BestBiasWeights, perceptron1layer.BestWeights)"
      ]
    },
    {
      "cell_type": "code",
      "execution_count": null,
      "metadata": {},
      "outputs": [
        {
          "name": "stdout",
          "output_type": "stream",
          "text": [
            "1\n",
            "2\n",
            "3\n"
          ]
        }
      ],
      "source": [
        "perceptron2layer = HebbNetworkGradient([1,3,5,1], perceptron2layer.BestBiasWeights, perceptron2layer.BestWeights)"
      ]
    },
    {
      "cell_type": "code",
      "execution_count": null,
      "metadata": {},
      "outputs": [
        {
          "data": {
            "image/png": "[encoded data removed]",
            "text/plain": [
              "<Figure size 640x480 with 1 Axes>"
            ]
          },
          "metadata": {},
          "output_type": "display_data"
        }
      ],
      "source": [
        "from turtle import color\n",
        "\n",
        "pred_y_rbf = rbf.predict(test_x,c)\n",
        "pred_y_perc1 = perceptron1layer.predict(test_x)\n",
        "pred_y_perc2 = perceptron2layer.predict(test_x)\n",
        "plt.plot(test_x, pred_y_rbf, color = 'black')\n",
        "plt.plot(test_x ,test_y , color = 'r')\n",
        "plt.plot(test_x,pred_y_perc1, color = 'blue')\n",
        "plt.plot(test_x,pred_y_perc2, color = 'green')\n",
        "\n",
        "plt.show()"
      ]
    }
  ],
  "metadata": {
    "colab": {
      "collapsed_sections": [],
      "provenance": []
    },
    "kernelspec": {
      "display_name": "Python 3.10.8 64-bit (microsoft store)",
      "language": "python",
      "name": "python3"
    },
    "language_info": {
      "codemirror_mode": {
        "name": "ipython",
        "version": 3
      },
      "file_extension": ".py",
      "mimetype": "text/x-python",
      "name": "python",
      "nbconvert_exporter": "python",
      "pygments_lexer": "ipython3",
      "version": "3.10.8"
    },
    "vscode": {
      "interpreter": {
        "hash": "ef09e8ac0ba9decc30d096ef2bdeedd9a25128f49aa4b433967dfa9ec965150d"
      }
    }
  },
  "nbformat": 4,
  "nbformat_minor": 0
}
