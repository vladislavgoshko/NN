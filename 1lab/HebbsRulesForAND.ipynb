{
 "cells": [
  {
   "cell_type": "code",
   "execution_count": 13,
   "metadata": {},
   "outputs": [],
   "source": [
    "def teach(X, Y, W):\n",
    "  iter = 0\n",
    "  for i in range(4): # количество повторов\n",
    "    for j in range(0, len(X)): # проход по каждому правилу\n",
    "      E = 0 # сумма\n",
    "      for k in range(0, len(W)): # расчет суммы\n",
    "        E += W[k] * X[j][k]\n",
    "      if Y[j] != E: # правила хебба\n",
    "        if E == 0:\n",
    "          for l in range(0, len(W)): # первое правило Хебба\n",
    "            if X[j][l] == 1:\n",
    "              W[l] = W[l] + 1\n",
    "        if E == 1:\n",
    "          for l in range(0, len(W)): # второе правило Хебба\n",
    "            if X[j][l] == 1:\n",
    "              W[l] = W[l] - 1\n",
    "      iter += 1\n",
    "      print(\"№\"+str(iter), \"X:\", X[j], \"Y:\", Y[j], \"Sum:\", E, \"Weights:\", W)\n"
   ]
  },
  {
   "cell_type": "code",
   "execution_count": 14,
   "metadata": {},
   "outputs": [],
   "source": [
    "def pred(X, W):\n",
    "    sum = 0\n",
    "    for i in range(0, len(W)):\n",
    "        sum += X[i] * W[i]\n",
    "    return sum"
   ]
  },
  {
   "cell_type": "code",
   "execution_count": 15,
   "metadata": {},
   "outputs": [
    {
     "name": "stdout",
     "output_type": "stream",
     "text": [
      "№1 X: [0, 0, 1] Y: 0 Sum: 0 Weights: [0, 0, 0]\n",
      "№2 X: [1, 0, 1] Y: 0 Sum: 0 Weights: [0, 0, 0]\n",
      "№3 X: [0, 1, 1] Y: 0 Sum: 0 Weights: [0, 0, 0]\n",
      "№4 X: [1, 1, 1] Y: 1 Sum: 0 Weights: [1, 1, 1]\n",
      "№5 X: [0, 0, 1] Y: 0 Sum: 1 Weights: [1, 1, 0]\n",
      "№6 X: [1, 0, 1] Y: 0 Sum: 1 Weights: [0, 1, -1]\n",
      "№7 X: [0, 1, 1] Y: 0 Sum: 0 Weights: [0, 1, -1]\n",
      "№8 X: [1, 1, 1] Y: 1 Sum: 0 Weights: [1, 2, 0]\n",
      "№9 X: [0, 0, 1] Y: 0 Sum: 0 Weights: [1, 2, 0]\n",
      "№10 X: [1, 0, 1] Y: 0 Sum: 1 Weights: [0, 2, -1]\n",
      "№11 X: [0, 1, 1] Y: 0 Sum: 1 Weights: [0, 1, -2]\n",
      "№12 X: [1, 1, 1] Y: 1 Sum: -1 Weights: [0, 1, -2]\n",
      "№13 X: [0, 0, 1] Y: 0 Sum: -2 Weights: [0, 1, -2]\n",
      "№14 X: [1, 0, 1] Y: 0 Sum: -2 Weights: [0, 1, -2]\n",
      "№15 X: [0, 1, 1] Y: 0 Sum: -1 Weights: [0, 1, -2]\n",
      "№16 X: [1, 1, 1] Y: 1 Sum: -1 Weights: [0, 1, -2]\n"
     ]
    }
   ],
   "source": [
    "x = [ [0, 0, 1], [1, 0, 1], [0, 1, 1], [1, 1, 1] ] # входы, в данном случае 4 правила, где последний x это сдвиг\n",
    "y = [ 0, 0, 0, 1 ] # выходы, в данном случае 4 ответа для каждого правила\n",
    "w = [0, 0, 0] # веса\n",
    "\n",
    "teach(x, y, w)"
   ]
  }
 ],
 "metadata": {
  "kernelspec": {
   "display_name": "Python 3.10.7 64-bit (microsoft store)",
   "language": "python",
   "name": "python3"
  },
  "language_info": {
   "codemirror_mode": {
    "name": "ipython",
    "version": 3
   },
   "file_extension": ".py",
   "mimetype": "text/x-python",
   "name": "python",
   "nbconvert_exporter": "python",
   "pygments_lexer": "ipython3",
   "version": "3.10.7"
  },
  "orig_nbformat": 4,
  "vscode": {
   "interpreter": {
    "hash": "ef09e8ac0ba9decc30d096ef2bdeedd9a25128f49aa4b433967dfa9ec965150d"
   }
  }
 },
 "nbformat": 4,
 "nbformat_minor": 2
}
