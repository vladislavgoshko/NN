{
 "cells": [
  {
   "cell_type": "code",
   "execution_count": 1,
   "metadata": {},
   "outputs": [],
   "source": [
    "import numpy as np\n",
    "import random as rnd"
   ]
  },
  {
   "cell_type": "code",
   "execution_count": 2,
   "metadata": {},
   "outputs": [],
   "source": [
    "import math\n",
    "\n",
    "\n",
    "def f(x):\n",
    "    return 1/(1 + math.exp(-x))\n",
    "\n",
    "\n",
    "def df(x):\n",
    "    return f(x)*(1 - f(x))"
   ]
  },
  {
   "cell_type": "code",
   "execution_count": 30,
   "metadata": {},
   "outputs": [],
   "source": [
    "class Neuron:\n",
    "    def __init__(self, WeightCount):\n",
    "        self.w = np.random.rand(WeightCount + 1)\n",
    "        self.y = 0\n",
    "\n",
    "    def count_out(self, Inputs):\n",
    "        self.y = f(self.count_sum(Inputs))\n",
    "\n",
    "    def count_sum(self, Inputs):\n",
    "        inp = Inputs.copy()\n",
    "        inp.append(1)\n",
    "        return np.dot(self.w, inp)\n",
    "\n",
    "    def __str__(self) -> str:\n",
    "        return str(self.w)\n",
    "\n",
    "n = Neuron(3)\n",
    "n.count_out([0,0,0])"
   ]
  },
  {
   "cell_type": "code",
   "execution_count": 31,
   "metadata": {},
   "outputs": [
    {
     "ename": "TypeError",
     "evalue": "f() missing 1 required positional argument: 'x'",
     "output_type": "error",
     "traceback": [
      "\u001b[1;31m---------------------------------------------------------------------------\u001b[0m",
      "\u001b[1;31mTypeError\u001b[0m                                 Traceback (most recent call last)",
      "Cell \u001b[1;32mIn [31], line 36\u001b[0m\n\u001b[0;32m     32\u001b[0m         \u001b[39mself\u001b[39m\u001b[39m.\u001b[39m__correct(d)\n\u001b[0;32m     35\u001b[0m n \u001b[39m=\u001b[39m NN([\u001b[39m3\u001b[39m, \u001b[39m2\u001b[39m, \u001b[39m1\u001b[39m])\n\u001b[1;32m---> 36\u001b[0m n\u001b[39m.\u001b[39;49mcount([\u001b[39m1\u001b[39;49m, \u001b[39m0\u001b[39;49m, \u001b[39m0\u001b[39;49m], \u001b[39m1\u001b[39;49m)\n",
      "Cell \u001b[1;32mIn [31], line 32\u001b[0m, in \u001b[0;36mNN.count\u001b[1;34m(self, inp, d)\u001b[0m\n\u001b[0;32m     30\u001b[0m \u001b[39mdef\u001b[39;00m \u001b[39mcount\u001b[39m(\u001b[39mself\u001b[39m, inp, d):\n\u001b[0;32m     31\u001b[0m     \u001b[39mself\u001b[39m\u001b[39m.\u001b[39m__change_outputs(inp)\n\u001b[1;32m---> 32\u001b[0m     \u001b[39mself\u001b[39;49m\u001b[39m.\u001b[39;49m__correct(d)\n",
      "Cell \u001b[1;32mIn [31], line 27\u001b[0m, in \u001b[0;36mNN.__correct\u001b[1;34m(self, d)\u001b[0m\n\u001b[0;32m     25\u001b[0m \u001b[39mfor\u001b[39;00m n_layer \u001b[39min\u001b[39;00m \u001b[39mrange\u001b[39m(\u001b[39mlen\u001b[39m(\u001b[39mself\u001b[39m\u001b[39m.\u001b[39mlayers) \u001b[39m-\u001b[39m \u001b[39m1\u001b[39m,  \u001b[39m-\u001b[39m\u001b[39m1\u001b[39m, \u001b[39m-\u001b[39m\u001b[39m1\u001b[39m):\n\u001b[0;32m     26\u001b[0m     \u001b[39mfor\u001b[39;00m n_neuron \u001b[39min\u001b[39;00m \u001b[39mrange\u001b[39m(\u001b[39m0\u001b[39m, \u001b[39mlen\u001b[39m(\u001b[39mself\u001b[39m\u001b[39m.\u001b[39mlayers[n_layer])):\n\u001b[1;32m---> 27\u001b[0m         sigm \u001b[39m=\u001b[39m e \u001b[39m*\u001b[39m f()\n\u001b[0;32m     28\u001b[0m         \u001b[39mprint\u001b[39m(e)\n",
      "\u001b[1;31mTypeError\u001b[0m: f() missing 1 required positional argument: 'x'"
     ]
    }
   ],
   "source": [
    "class NN:\n",
    "    def __init__(self, sizes):\n",
    "        self.layers = []\n",
    "        for i in range(len(sizes) - 1):\n",
    "            layer = []\n",
    "            for j in range(sizes[i+1]):\n",
    "                layer.append(Neuron(sizes[i]))\n",
    "            self.layers.append(layer)\n",
    "\n",
    "    def __change_outputs(self, inp):\n",
    "        for neuron in self.layers[0]:\n",
    "            neuron.count_out(inp)\n",
    "            # print(\"Layer #1 out: {0}\".format(neuron.grad))\n",
    "        for layer in range(1, len(self.layers)):\n",
    "            outputs = []\n",
    "            for n in self.layers[layer - 1]:\n",
    "                outputs.append(n.y)\n",
    "            for neuron in self.layers[layer]:\n",
    "                neuron.count_out(outputs)\n",
    "                # print(\"Layer #{0} out: {1}\".format(layer + 1, neuron.grad))\n",
    "\n",
    "    def __correct(self, d):\n",
    "        h = 0.1\n",
    "        e = d - self.layers[len(self.layers) - 1][0].y\n",
    "        for n_layer in range(len(self.layers) - 1,  -1, -1):\n",
    "            for n_neuron in range(0, len(self.layers[n_layer])):\n",
    "                sigm = e * df(self.layers[n_layer][n_neuron].y)\n",
    "                for n_weight in range(0, len(self.layers[n_layer][n_neuron].w) - 1):\n",
    "                    self.layers[n_layer][n_neuron].w[n_weight] -= h * sigm * self.layers[n_layer][n_neuron]\n",
    "\n",
    "                print(e) \n",
    "\n",
    "    def count(self, inp, d):\n",
    "        self.__change_outputs(inp)\n",
    "        self.__correct(d)\n",
    "\n",
    "\n",
    "n = NN([3, 2, 1])\n",
    "n.count([1, 0, 0], 1)\n"
   ]
  }
 ],
 "metadata": {
  "kernelspec": {
   "display_name": "Python 3.10.8 64-bit (microsoft store)",
   "language": "python",
   "name": "python3"
  },
  "language_info": {
   "codemirror_mode": {
    "name": "ipython",
    "version": 3
   },
   "file_extension": ".py",
   "mimetype": "text/x-python",
   "name": "python",
   "nbconvert_exporter": "python",
   "pygments_lexer": "ipython3",
   "version": "3.10.8"
  },
  "orig_nbformat": 4,
  "vscode": {
   "interpreter": {
    "hash": "ef09e8ac0ba9decc30d096ef2bdeedd9a25128f49aa4b433967dfa9ec965150d"
   }
  }
 },
 "nbformat": 4,
 "nbformat_minor": 2
}
